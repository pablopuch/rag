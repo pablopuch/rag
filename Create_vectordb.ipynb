{
  "cells": [
    {
      "cell_type": "code",
      "execution_count": 1,
      "metadata": {
        "id": "vewn5iDOQY69"
      },
      "outputs": [],
      "source": [
        "from langchain.vectorstores import Chroma\n",
        "from langchain_community.document_loaders import PyPDFLoader\n",
        "from PyPDF2 import PdfReader\n",
        "from langchain_community.embeddings import HuggingFaceEmbeddings\n",
        "from langchain_text_splitters import RecursiveCharacterTextSplitter\n",
        "from langchain_experimental.text_splitter import SemanticChunker\n",
        "from langchain.schema import Document\n",
        "from langchain_community.chat_models import ChatOllama\n",
        "from langchain.chains import create_retrieval_chain\n",
        "from langchain.chains.combine_documents import create_stuff_documents_chain\n",
        "from langchain_core.prompts import ChatPromptTemplate\n",
        "import os\n",
        "import fitz"
      ]
    },
    {
      "cell_type": "code",
      "execution_count": 2,
      "metadata": {
        "colab": {
          "base_uri": "https://localhost:8080/"
        },
        "id": "dMi5_8MnQd6t",
        "outputId": "34030ffa-a519-4c2e-cc6d-def65cb8af2f"
      },
      "outputs": [
        {
          "name": "stdout",
          "output_type": "stream",
          "text": [
            "Cargando archivo: ./doc\\preguntas.pdf\n",
            "Cargando archivo: ./doc\\respuestas.pdf\n",
            "Cargando archivo: ./doc\\teoria.pdf\n",
            "Archivos PDF válidos: ['preguntas.pdf', 'respuestas.pdf', 'teoria.pdf']\n"
          ]
        }
      ],
      "source": [
        "# Directorio para cargar los archivos PDF\n",
        "pdf_directory = './doc'  # Ajusta la ruta según tu estructura de directorios\n",
        "os.makedirs(pdf_directory, exist_ok=True)\n",
        "\n",
        "# Función para verificar si un archivo es PDF\n",
        "def is_pdf(file_path):\n",
        "    try:\n",
        "        with open(file_path, 'rb') as file:\n",
        "            # Verificar si el archivo empieza con la cabecera %PDF\n",
        "            header = file.read(4)\n",
        "            if header != b'%PDF':\n",
        "                return False\n",
        "\n",
        "        # Intentar abrir el archivo con PyMuPDF\n",
        "        doc = fitz.open(file_path)\n",
        "        doc.close()\n",
        "        return True\n",
        "    except (fitz.FitzError, IOError):\n",
        "        return False\n",
        "\n",
        "# Directorio de entrada que contiene archivos PDF\n",
        "input_directory = './doc'  # Cambia esta ruta si es diferente\n",
        "\n",
        "# Mover y validar los archivos cargados\n",
        "valid_pdf_files = []\n",
        "for filename in os.listdir(input_directory):\n",
        "    if filename.lower().endswith('.pdf'):\n",
        "        file_path = os.path.join(input_directory, filename)\n",
        "        print(f\"Cargando archivo: {file_path}\")\n",
        "\n",
        "        # Mover el archivo al directorio especificado\n",
        "        destination_path = os.path.join(pdf_directory, filename)\n",
        "\n",
        "        # Mover el archivo al directorio especificado\n",
        "        os.rename(file_path, destination_path)\n",
        "\n",
        "        # Validar si es un PDF\n",
        "        if is_pdf(destination_path):\n",
        "            valid_pdf_files.append(filename)\n",
        "        else:\n",
        "            print(f\"{filename} no es un archivo PDF válido y será ignorado.\")\n",
        "\n",
        "# Imprimir archivos válidos\n",
        "print(\"Archivos PDF válidos:\", valid_pdf_files)"
      ]
    },
    {
      "cell_type": "code",
      "execution_count": 3,
      "metadata": {
        "colab": {
          "base_uri": "https://localhost:8080/"
        },
        "id": "JCFNbo0AQis2",
        "outputId": "b390a386-9952-4334-a0cf-fb0617183a18"
      },
      "outputs": [
        {
          "name": "stdout",
          "output_type": "stream",
          "text": [
            "Cargando archivo: ./doc\\preguntas.pdf\n",
            "Archivo preguntas.pdf cargado exitosamente.\n",
            "Cargando archivo: ./doc\\respuestas.pdf\n",
            "Archivo respuestas.pdf cargado exitosamente.\n",
            "Cargando archivo: ./doc\\teoria.pdf\n",
            "Archivo teoria.pdf cargado exitosamente.\n",
            "Cantidad total de partes del PDF: 53\n"
          ]
        }
      ],
      "source": [
        "# Directorio que contiene los archivos PDF\n",
        "pdf_directory = './doc'\n",
        "\n",
        "# Lista para almacenar todos los documentos\n",
        "all_docs = []\n",
        "\n",
        "# Iterar sobre todos los archivos en el directorio\n",
        "for filename in os.listdir(pdf_directory):\n",
        "    if filename.lower().endswith('.pdf'):\n",
        "        file_path = os.path.join(pdf_directory, filename)\n",
        "        print(f\"Cargando archivo: {file_path}\")\n",
        "\n",
        "        try:\n",
        "            # Cargar el PDF\n",
        "            loader = PyPDFLoader(file_path)\n",
        "            docs = loader.load()\n",
        "\n",
        "            # Agregar los documentos cargados a la lista\n",
        "            all_docs.extend(docs)\n",
        "            print(f\"Archivo {filename} cargado exitosamente.\")\n",
        "        except Exception as e:\n",
        "            print(f\"Error al cargar {filename}: {e}\")\n",
        "\n",
        "# Imprimir la cantidad total de partes del PDF\n",
        "print(f\"Cantidad total de partes del PDF: {len(all_docs)}\")"
      ]
    },
    {
      "cell_type": "markdown",
      "metadata": {},
      "source": [
        "# RecursiveCharacterTextSplitter"
      ]
    },
    {
      "cell_type": "code",
      "execution_count": 4,
      "metadata": {
        "id": "FLSNa7X4QoSr"
      },
      "outputs": [
        {
          "name": "stderr",
          "output_type": "stream",
          "text": [
            "c:\\Users\\Pablo\\Desktop\\RAG\\env\\Lib\\site-packages\\langchain_core\\_api\\deprecation.py:141: LangChainDeprecationWarning: The class `HuggingFaceEmbeddings` was deprecated in LangChain 0.2.2 and will be removed in 0.3.0. An updated version of the class exists in the langchain-huggingface package and should be used instead. To use it run `pip install -U langchain-huggingface` and import as `from langchain_huggingface import HuggingFaceEmbeddings`.\n",
            "  warn_deprecated(\n",
            "c:\\Users\\Pablo\\Desktop\\RAG\\env\\Lib\\site-packages\\sentence_transformers\\cross_encoder\\CrossEncoder.py:11: TqdmWarning: IProgress not found. Please update jupyter and ipywidgets. See https://ipywidgets.readthedocs.io/en/stable/user_install.html\n",
            "  from tqdm.autonotebook import tqdm, trange\n",
            "c:\\Users\\Pablo\\Desktop\\RAG\\env\\Lib\\site-packages\\transformers\\tokenization_utils_base.py:1601: FutureWarning: `clean_up_tokenization_spaces` was not set. It will be set to `True` by default. This behavior will be depracted in transformers v4.45, and will be then set to `False` by default. For more details check this issue: https://github.com/huggingface/transformers/issues/31884\n",
            "  warnings.warn(\n"
          ]
        }
      ],
      "source": [
        "embeddings = HuggingFaceEmbeddings(model_name='all-MiniLM-L6-v2') #modelo de embeddings gratis\n",
        "\n",
        "text_splitter = RecursiveCharacterTextSplitter(\n",
        "        chunk_size=1000,           # Tamaño del fragmento\n",
        "        chunk_overlap=0,         # Superposición entre fragmentos\n",
        "        separators=['\\n\\n', '\\n', ' ', '']  # Separadores para dividir el texto\n",
        "    )\n",
        "\n",
        "splits = text_splitter.split_documents(all_docs)\n",
        "\n",
        "vectorstore = Chroma.from_documents(documents=splits, embedding=embeddings, persist_directory='./vectordb')\n",
        "\n",
        "retriever = vectorstore.as_retriever()"
      ]
    },
    {
      "cell_type": "code",
      "execution_count": 5,
      "metadata": {
        "id": "3ScjVkHT2f3U"
      },
      "outputs": [],
      "source": [
        "llm = ChatOllama(model='llama3.1:latest', temperature=0)"
      ]
    },
    {
      "cell_type": "code",
      "execution_count": 6,
      "metadata": {
        "id": "znrwCZwr2f3V"
      },
      "outputs": [],
      "source": [
        "system_prompt = (\n",
        "    \"Usted es un asistente para tareas de respuesta a preguntas. Utiliza los siguientes elementos del contexto recuperado para responder a la pregunta. Responde fielmente con la información pasada por el contexto.Si no conoce la respuesta, diga simplemente que necesitas para poder responder. Utiliza y procura que la respuesta sea concisa\"\n",
        "    \"\\n\\n\"\n",
        "    \"{context}\"\n",
        ")\n",
        "\n",
        "prompt = ChatPromptTemplate.from_messages(\n",
        "    [\n",
        "        (\"system\", system_prompt),\n",
        "        (\"human\", \"{input}\"),\n",
        "    ]\n",
        ")\n",
        "\n",
        "chain = create_stuff_documents_chain(llm, prompt)\n",
        "rag = create_retrieval_chain(retriever, chain)"
      ]
    },
    {
      "cell_type": "code",
      "execution_count": 7,
      "metadata": {
        "colab": {
          "base_uri": "https://localhost:8080/",
          "height": 669
        },
        "id": "rSlMBgwA2f3V",
        "outputId": "c66e4321-f78a-48f1-8594-293fd5e77bab"
      },
      "outputs": [
        {
          "data": {
            "text/plain": [
              "{'input': '¿Cuál es la idea básica del proyecto?',\n",
              " 'context': [Document(metadata={'page': 5, 'source': './doc\\\\teoria.pdf'}, page_content='las semejanzas y diferencias. Además, es conveniente analizar las \\ncausas que motivaron el fracaso de otras ideas parecidas. Por \\núltimo, es importante definir las novedades o ventajas competitivas \\nque  aportará nuestro producto o servicio al mercado frente a la \\ncompetencia. 2.1.1. Objetivo\\nEl objetivo fundamental de este apartado es concretar la actividad \\nde la empresa en cuanto a los productos y servicios a comercializar \\nen el presente inmediato, quiénes son los clientes potenciales, el \\námbito geográfico, así como lasventajas competitivas y capacidades \\nsingulares. En definitiva, se trata de resumir los aspectos clave del \\nnegocio que se quiere poner en marcha.\\n2.1.2. Contenido\\nPara explicar en qué va a consistir el negocio, debemos hacerlo de \\nuna forma clara y concisa, evitando las generalidades y el lenguaje \\nexcesivamente especializado. Debemos ser conscientes de que no \\ntodas las personas que lean nuestro plan, son expertos/as en el \\nsector, producto o servicio.'),\n",
              "  Document(metadata={'page': 5, 'source': './doc\\\\teoria.pdf'}, page_content='las semejanzas y diferencias. Además, es conveniente analizar las \\ncausas que motivaron el fracaso de otras ideas parecidas. Por \\núltimo, es importante definir las novedades o ventajas competitivas \\nque  aportará nuestro producto o servicio al mercado frente a la \\ncompetencia. 2.1.1. Objetivo\\nEl objetivo fundamental de este apartado es concretar la actividad \\nde la empresa en cuanto a los productos y servicios a comercializar \\nen el presente inmediato, quiénes son los clientes potenciales, el \\námbito geográfico, así como lasventajas competitivas y capacidades \\nsingulares. En definitiva, se trata de resumir los aspectos clave del \\nnegocio que se quiere poner en marcha.\\n2.1.2. Contenido\\nPara explicar en qué va a consistir el negocio, debemos hacerlo de \\nuna forma clara y concisa, evitando las generalidades y el lenguaje \\nexcesivamente especializado. Debemos ser conscientes de que no \\ntodas las personas que lean nuestro plan, son expertos/as en el \\nsector, producto o servicio.'),\n",
              "  Document(metadata={'page': 5, 'source': './doc\\\\teoria.pdf'}, page_content='las semejanzas y diferencias. Además, es conveniente analizar las \\ncausas que motivaron el fracaso de otras ideas parecidas. Por \\núltimo, es importante definir las novedades o ventajas competitivas \\nque  aportará nuestro producto o servicio al mercado frente a la \\ncompetencia. 2.1.1. Objetivo\\nEl objetivo fundamental de este apartado es concretar la actividad \\nde la empresa en cuanto a los productos y servicios a comercializar \\nen el presente inmediato, quiénes son los clientes potenciales, el \\námbito geográfico, así como lasventajas competitivas y capacidades \\nsingulares. En definitiva, se trata de resumir los aspectos clave del \\nnegocio que se quiere poner en marcha.\\n2.1.2. Contenido\\nPara explicar en qué va a consistir el negocio, debemos hacerlo de \\nuna forma clara y concisa, evitando las generalidades y el lenguaje \\nexcesivamente especializado. Debemos ser conscientes de que no \\ntodas las personas que lean nuestro plan, son expertos/as en el \\nsector, producto o servicio.'),\n",
              "  Document(metadata={'page': 0, 'source': './doc\\\\respuestas.pdf'}, page_content='1.\\nPresentación\\ndel\\nProyecto\\n1.1.\\nDescripción\\ndel\\nNegocio\\nAyuda\\npara\\nResponder:\\n●\\nIdea\\nBásica\\ndel\\nProyecto:\\no\\nPiensa\\nen\\nqué\\noportunidad\\nde\\nmercado\\nestás\\naprovechando\\ncon\\ntu\\nidea\\nde \\nnegocio.\\nSegún\\nel\\ndocumento,\\nla\\nidea\\ndebe\\ncubrir\\nuna\\ndemanda\\nno \\nsatisfecha\\no\\nmejorar\\nun\\nproducto/servicio\\nexistente.\\no\\nDescribe\\nel\\nproducto\\no\\nservicio\\ndestacando\\nsi\\nes\\nalgo\\nnuevo\\nen\\nel \\nmercado\\no\\nuna\\ninnovación\\nsobre\\nalgo\\nya\\nexistente.\\n●\\nProductos\\no\\nServicios:\\no\\nSi\\nes\\nun\\nproducto,\\ndescribe\\nsus\\ncaracterísticas,\\nutilidad\\ny\\nsi\\nes\\nalgo \\nnovedoso\\no\\nconocido.\\nExplica\\ncómo\\nfuncionará\\ny\\ncuáles\\nson\\nsus\\nventajas \\ncompetitivas.\\no\\nSi\\nes\\nun\\nservicio,\\ndetalla\\nlo\\nque\\nse\\nva\\na\\nhacer ,\\ncómo\\nse\\nhará\\ny\\nqué \\nbeneficios\\naportará\\nal\\ncliente.\\n●\\nRazones\\npara\\nCrear\\nla\\nEmpr esa:\\no\\nSegún\\nel\\ndocumento,\\nidentifica\\nlas\\nnecesidades\\ndel\\nmercado\\nque\\nestás \\ncubriendo.\\nTambién\\npuedes\\nseñalar\\nqué\\nte\\nmotiva\\na\\nemprender\\n(por \\nejemplo,\\nuna\\noportunidad\\nde\\nnegocio\\ndetectada,\\nun\\nnicho\\nde\\nmercado \\nmal\\natendido,\\netc.).\\n●\\nObjetivos\\na\\nMedio/Largo')],\n",
              " 'answer': 'Según el contexto proporcionado, la idea básica del proyecto parece ser desarrollar un plan de negocio que concreta la actividad de la empresa en cuanto a los productos y servicios a comercializar en el presente inmediato. Esto incluye identificar a los clientes potenciales, el ámbito geográfico, así como las ventajas competitivas y capacidades singulares del negocio.'}"
            ]
          },
          "execution_count": 7,
          "metadata": {},
          "output_type": "execute_result"
        }
      ],
      "source": [
        "results = rag.invoke({\"input\": \"¿Cuál es la idea básica del proyecto?\"})\n",
        "results"
      ]
    },
    {
      "cell_type": "code",
      "execution_count": 8,
      "metadata": {
        "colab": {
          "base_uri": "https://localhost:8080/",
          "height": 141
        },
        "id": "CXYCn8Xw2f3V",
        "outputId": "b527eb99-c50f-4d2f-8050-51ebc25fedc6"
      },
      "outputs": [
        {
          "data": {
            "text/plain": [
              "'Según el contexto proporcionado, la idea básica del proyecto parece ser desarrollar un plan de negocio que concreta la actividad de la empresa en cuanto a los productos y servicios a comercializar en el presente inmediato. Esto incluye identificar a los clientes potenciales, el ámbito geográfico, así como las ventajas competitivas y capacidades singulares del negocio.'"
            ]
          },
          "execution_count": 8,
          "metadata": {},
          "output_type": "execute_result"
        }
      ],
      "source": [
        "results['answer']"
      ]
    },
    {
      "cell_type": "markdown",
      "metadata": {
        "id": "UmqrNL12H4YU"
      },
      "source": [
        "\n",
        "# SemanticChunker"
      ]
    },
    {
      "cell_type": "code",
      "execution_count": 9,
      "metadata": {
        "id": "9PNB8NotH2nb"
      },
      "outputs": [
        {
          "name": "stderr",
          "output_type": "stream",
          "text": [
            "c:\\Users\\Pablo\\Desktop\\RAG\\env\\Lib\\site-packages\\transformers\\tokenization_utils_base.py:1601: FutureWarning: `clean_up_tokenization_spaces` was not set. It will be set to `True` by default. This behavior will be depracted in transformers v4.45, and will be then set to `False` by default. For more details check this issue: https://github.com/huggingface/transformers/issues/31884\n",
            "  warnings.warn(\n"
          ]
        }
      ],
      "source": [
        "from langchain_experimental.text_splitter import SemanticChunker\n",
        "\n",
        "\n",
        "# Crear el modelo de embeddings\n",
        "embeddings = HuggingFaceEmbeddings(model_name='sentence-transformers/all-MiniLM-L6-v2')\n",
        "\n",
        "# Crear el Semantic Chunker\n",
        "semantic_chunker = SemanticChunker(embeddings, breakpoint_threshold_type=\"percentile\")\n",
        "\n",
        "semantic_chunks = semantic_chunker.create_documents([d.page_content for d in all_docs])\n",
        "\n",
        "# Dividir los documentos en partes semánticas manejables\n",
        "for semantic_chunk in semantic_chunks:\n",
        "  if \"Effect of Pre-training Tasks\" in semantic_chunk.page_content:\n",
        "    print(semantic_chunk.page_content)\n",
        "    print(len(semantic_chunk.page_content))\n",
        "\n",
        "# Crear el vector store y almacenar los vectores\n",
        "vectorstore = Chroma.from_documents(semantic_chunks, embedding=embeddings, persist_directory='./vectordb2')\n",
        "\n",
        "# Configurar el recuperador\n",
        "retriever = vectorstore.as_retriever()"
      ]
    },
    {
      "cell_type": "code",
      "execution_count": 10,
      "metadata": {
        "id": "QCmiHLxHIITI"
      },
      "outputs": [],
      "source": [
        "llm = ChatOllama(model='llama3.1:latest', temperature=0)"
      ]
    },
    {
      "cell_type": "code",
      "execution_count": 11,
      "metadata": {
        "id": "g1MmE6uBIJ8I"
      },
      "outputs": [],
      "source": [
        "system_prompt = (\n",
        "    \"Usted es un asistente para tareas de respuesta a preguntas. Utiliza los siguientes elementos del contexto recuperado para responder a la pregunta. Responde fielmente con la información pasada por el contexto.Si no conoce la respuesta, diga simplemente que necesitas para poder responder. Utiliza y procura que la respuesta sea concisa\"\n",
        "    \"\\n\\n\"\n",
        "    \"{context}\"\n",
        ")\n",
        "\n",
        "prompt = ChatPromptTemplate.from_messages(\n",
        "    [\n",
        "        (\"system\", system_prompt),\n",
        "        (\"human\", \"{input}\"),\n",
        "    ]\n",
        ")\n",
        "\n",
        "chain = create_stuff_documents_chain(llm, prompt)\n",
        "rag = create_retrieval_chain(retriever, chain)"
      ]
    },
    {
      "cell_type": "code",
      "execution_count": 12,
      "metadata": {
        "id": "CDDt2lAyIMBY"
      },
      "outputs": [
        {
          "data": {
            "text/plain": [
              "{'input': '¿Cuál es la idea básica del proyecto?',\n",
              " 'context': [Document(page_content='¿Qué es?'),\n",
              "  Document(page_content='1. Presentación\\ndel\\nProyecto\\n1.1. Descripción\\ndel\\nNegocio\\nAyuda\\npara\\nResponder:\\n●\\nIdea\\nBásica\\ndel\\nProyecto:\\no\\nPiensa\\nen\\nqué\\noportunidad\\nde\\nmercado\\nestás\\naprovechando\\ncon\\ntu\\nidea\\nde \\nnegocio. Según\\nel\\ndocumento,\\nla\\nidea\\ndebe\\ncubrir\\nuna\\ndemanda\\nno \\nsatisfecha\\no\\nmejorar\\nun\\nproducto/servicio\\nexistente. o\\nDescribe\\nel\\nproducto\\no\\nservicio\\ndestacando\\nsi\\nes\\nalgo\\nnuevo\\nen\\nel \\nmercado\\no\\nuna\\ninnovación\\nsobre\\nalgo\\nya\\nexistente. ●\\nProductos\\no\\nServicios:\\no\\nSi\\nes\\nun\\nproducto,\\ndescribe\\nsus\\ncaracterísticas,\\nutilidad\\ny\\nsi\\nes\\nalgo \\nnovedoso\\no\\nconocido. Explica\\ncómo\\nfuncionará\\ny\\ncuáles\\nson\\nsus\\nventajas \\ncompetitivas. o\\nSi\\nes\\nun\\nservicio,\\ndetalla\\nlo\\nque\\nse\\nva\\na\\nhacer ,\\ncómo\\nse\\nhará\\ny\\nqué \\nbeneficios\\naportará\\nal\\ncliente. ●\\nRazones\\npara\\nCrear\\nla\\nEmpr esa:\\no\\nSegún\\nel\\ndocumento,\\nidentifica\\nlas\\nnecesidades\\ndel\\nmercado\\nque\\nestás \\ncubriendo. También\\npuedes\\nseñalar\\nqué\\nte\\nmotiva\\na\\nemprender\\n(por \\nejemplo,\\nuna\\noportunidad\\nde\\nnegocio\\ndetectada,\\nun\\nnicho\\nde\\nmercado \\nmal\\natendido,\\netc.). ●\\nObjetivos\\na\\nMedio/Largo\\nPlazo:\\no\\nEstablece\\ntus\\nmetas\\npara\\nlos\\npróximos\\ntres\\naños\\nen\\ntérminos\\nde \\nposicionamiento\\nen\\nel\\nmercado,\\nventas,\\nempleo,\\ny\\nrentabilidad. Asegúrate\\nde\\nque\\nlos\\nobjetivos\\nsean\\nrealistas\\ny\\nbasados\\nen\\nlas\\nprevisiones \\nde\\ncrecimiento\\nde\\ntu\\nnegocio. 2. Descripción\\nde\\nla\\nActividad\\nde\\nla\\nEmpr esa\\n2.1. Descripción\\nde\\nla\\nActividad\\nAyuda\\npara\\nResponder:\\n●\\nActividad\\nPrincipal:\\no\\nDescribe\\nclaramente\\nen\\nqué\\nconsiste\\nla\\nactividad\\nde\\nla\\nempresa. Evita \\nlimitarte\\na\\nsu\\nnombre\\ntécnico\\no\\na\\nsu\\ncódigo\\nen\\nel\\nCNAE\\no\\nIAE. Detalla \\nlo\\nque\\nharás,\\npara\\nquién,\\ndónde\\ny\\ncómo. 2.2. Líneas\\nde\\nNegocio/Pr oductor/Servicios\\nAyuda\\npara\\nResponder:\\n●\\nLíneas\\nde\\nNegocio/Pr oductos/Servicios:\\no\\nDefine\\ncada\\nlínea\\nde\\nnegocio,\\nproducto\\no\\nservicio. Explica\\nsus \\nespecificaciones\\ntécnicas,\\nsu\\nutilidad,\\ny\\ncómo\\ncubrirán\\nlas\\nnecesidades \\ndel\\nmercado.'),\n",
              "  Document(page_content='1. Presentación\\ndel\\nProyecto\\n1.1. Descripción\\ndel\\nNegocio\\n●\\n¿Cuál\\nes\\nla\\nidea\\nbásica\\ndel\\nproyecto? ●\\n¿Qué\\nproductos\\no\\nservicios\\nofrecerá\\nla\\nempr esa? o\\nSi\\nes\\nun\\nproducto:\\n¿Es\\nconocido\\no\\nnuevo? ¿Qué\\nposibilidades\\nofrece? o\\nSi\\nes\\nun\\nservicio:\\n¿Qué\\nse\\nva\\na\\nhacer\\ny\\ncómo\\nse\\nhará? ●\\n¿Por\\nqué\\ndecidiste\\ncrear\\nesta\\nempr esa? ●\\n¿Cuáles\\nson\\nlos\\nobjetivos\\nesperados\\na\\nmedio/largo\\nplazo? o\\n¿Cómo\\nves\\nel\\nposicionamiento\\nde\\nla\\nempresa\\nen\\ntres\\naños? o\\n¿Qué\\nobjetivos\\nesperas\\nalcanzar\\nen\\ntérminos\\nde\\nproducción,\\nventas, \\nempleo\\ny\\nrentabilidad? 2. Descripción\\nde\\nla\\nActividad\\nde\\nla\\nEmpr esa\\n2.1. Descripción\\nde\\nla\\nActividad\\n●\\n¿Cuál\\nes\\nla\\nactividad\\nprincipal\\nde\\nla\\nempr esa? o\\n¿En\\nqué\\nconsiste\\nesta\\nactividad\\nmás\\nallá\\nde\\nsu\\ndenominación?'),\n",
              "  Document(page_content='PRODUCCIÓN Y OPERACIONES\\n5.1. INTRODUCCIÓN\\nEl área de producción tiene un objeto claro: atender las necesidades \\nde la clientela de la forma más eficiente y menos costosa, dentro de \\nunos estándares de calidad. Para ello se deberá decidir el plan de \\nproducción en función de las previsiones de ventas. Esto supone \\nadecuar la capacidad de producción, limitada por los recursos \\ndisponibles, para abastecer correctamente al público objetivo. El Plan de Producción tiene como objetivo describir las operaciones \\nde la empresa, es decir, el proceso fabricación del pr oducto o de \\nprestación del servicio, así como los recursos humanos, materiales \\ny tecnológicos necesarios para el funcionamiento de dichas \\noperaciones. En este sentido, se analizarán las infraestructuras e instalaciones, el \\nequipamiento, los recursos tecnológicos, los requerimientos técnicos \\nde los productos y características de los servicios, el proceso \\nproductivo y de prestación del servicio, los costes, los planes y \\nprogramas de producción, así como las políticas de mantenimiento, \\ncalidad, protección de datos, y seguridad y prevención laboral. El objetivo del Plan de Producción es detallar cómo se van a fabricar \\nlos productos que se ha previsto vender. Se trata de conocer los \\nrecursos humanos y materiales que habrá que movilizar para llevar \\nadelante la nueva empresa.Este apartado tiene como objetivo resumir las necesidades de \\ninfraestructuras e instalaciones que precisa y con las que cuenta la \\nempresa, las necesidades de mantenimiento y de subcontratación. Se detallará los medios con los que se cuenta; locales y otras \\ninstalaciones, necesidades de maquinaria y personal, así como las \\nnecesidades de la formación. 5.2.1. Instalaciones Físicas (Ubicación, Tamaño, Distribución, \\nenta/Alquiler) \\nPara la elección de la localización física de la empresa debemos analizar \\nciertos factores tales como el precio de compra o de alquiler, las \\ninfraestructuras e instalaciones dae energía, agua y comunicaciones, \\nlas posibilidades de ampliación y de acondicionamiento, la proximidad \\no cercanía a los clientes y a los proveedores. 5.2.2. Ubicación\\nIncluso para negocios on-line, hay que decidir si existe una ubicación \\nfísica y dónde, o si se trata de un nómada digital pues quizá nada de \\nesto sea necesario. Para la ubicación concreta de las instalaciones \\nde producción en un municipio, barrio, polígono industrial, parque \\nempresarial, etc., debemos analizar si la clientela precisa visitarnos, \\nlos accesos, infraestructuras, parking, las instalaciones específicas, \\nzonas de carga y descarga, cercanía a puertos y aeropuertos, zonas \\nde almacenaje o de logística, entre otros. 5.2.3. Tamaño\\nEn este apartado es preciso determinar las dimensiones necesarias \\ndel local, taller, nave u oficina para realizar la actividad, así como las \\nposibilidades de ampliación futura. 5.2.4. Distribución\\nSe trata de realizar una distribución en planta que facilite la entrada o \\nrecepción a las instalaciones de materias primas y otros suministros, \\nla salida o entrega de productos terminados, el desarrollo del proceso \\nde fabricación o de prestación del servicio, así como otras actividades \\nde servicio técnico, laboratorios y control de calidad del producto.5.2. INFRAESTRUCTURAS E INSTALACIONES')],\n",
              " 'answer': 'No puedo determinar el proyecto que estás haciendo. ¿Puedes proporcionarme más información sobre lo que estás tratando de hacer?'}"
            ]
          },
          "execution_count": 12,
          "metadata": {},
          "output_type": "execute_result"
        }
      ],
      "source": [
        "results = rag.invoke({\"input\": \"¿Cuál es la idea básica del proyecto?\"})\n",
        "results"
      ]
    },
    {
      "cell_type": "code",
      "execution_count": 13,
      "metadata": {
        "id": "8Bkyc2x4INf6"
      },
      "outputs": [
        {
          "data": {
            "text/plain": [
              "'No puedo determinar el proyecto que estás haciendo. ¿Puedes proporcionarme más información sobre lo que estás tratando de hacer?'"
            ]
          },
          "execution_count": 13,
          "metadata": {},
          "output_type": "execute_result"
        }
      ],
      "source": [
        "results['answer']"
      ]
    }
  ],
  "metadata": {
    "accelerator": "GPU",
    "colab": {
      "gpuType": "T4",
      "provenance": []
    },
    "kernelspec": {
      "display_name": "Python 3",
      "name": "python3"
    },
    "language_info": {
      "codemirror_mode": {
        "name": "ipython",
        "version": 3
      },
      "file_extension": ".py",
      "mimetype": "text/x-python",
      "name": "python",
      "nbconvert_exporter": "python",
      "pygments_lexer": "ipython3",
      "version": "3.12.5"
    }
  },
  "nbformat": 4,
  "nbformat_minor": 0
}
