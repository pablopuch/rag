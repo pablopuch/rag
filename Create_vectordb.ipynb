{
  "cells": [
    {
      "cell_type": "code",
      "execution_count": 8,
      "metadata": {
        "id": "vewn5iDOQY69"
      },
      "outputs": [],
      "source": [
        "from langchain.vectorstores import Chroma\n",
        "from langchain_community.document_loaders import PyPDFLoader\n",
        "from PyPDF2 import PdfReader\n",
        "from langchain_community.embeddings import HuggingFaceEmbeddings\n",
        "from langchain_text_splitters import RecursiveCharacterTextSplitter\n",
        "import os\n",
        "import fitz\n",
        "from langchain_experimental.text_splitter import SemanticChunker\n",
        "from langchain.schema import Document"
      ]
    },
    {
      "cell_type": "code",
      "execution_count": 12,
      "metadata": {
        "colab": {
          "base_uri": "https://localhost:8080/",
          "height": 162
        },
        "id": "dMi5_8MnQd6t",
        "outputId": "3312945c-203f-4971-856b-b43ee230369f"
      },
      "outputs": [
        {
          "name": "stdout",
          "output_type": "stream",
          "text": [
            "Cargando archivo: ./doc\\preguntas.pdf\n",
            "Cargando archivo: ./doc\\respuestas.pdf\n",
            "Cargando archivo: ./doc\\teoria.pdf\n",
            "Archivos PDF válidos: ['preguntas.pdf', 'respuestas.pdf', 'teoria.pdf']\n"
          ]
        }
      ],
      "source": [
        "# Directorio para cargar los archivos PDF\n",
        "pdf_directory = './doc'  # Ajusta la ruta según tu estructura de directorios\n",
        "os.makedirs(pdf_directory, exist_ok=True)\n",
        "\n",
        "# Función para verificar si un archivo es PDF\n",
        "def is_pdf(file_path):\n",
        "    try:\n",
        "        with open(file_path, 'rb') as file:\n",
        "            # Verificar si el archivo empieza con la cabecera %PDF\n",
        "            header = file.read(4)\n",
        "            if header != b'%PDF':\n",
        "                return False\n",
        "\n",
        "        # Intentar abrir el archivo con PyMuPDF\n",
        "        doc = fitz.open(file_path)\n",
        "        doc.close()\n",
        "        return True\n",
        "    except (fitz.FitzError, IOError):\n",
        "        return False\n",
        "\n",
        "# Directorio de entrada que contiene archivos PDF\n",
        "input_directory = './doc'  # Cambia esta ruta si es diferente\n",
        "\n",
        "# Mover y validar los archivos cargados\n",
        "valid_pdf_files = []\n",
        "for filename in os.listdir(input_directory):\n",
        "    if filename.lower().endswith('.pdf'):\n",
        "        file_path = os.path.join(input_directory, filename)\n",
        "        print(f\"Cargando archivo: {file_path}\")\n",
        "\n",
        "        # Mover el archivo al directorio especificado\n",
        "        destination_path = os.path.join(pdf_directory, filename)\n",
        "\n",
        "        # Mover el archivo al directorio especificado\n",
        "        os.rename(file_path, destination_path)\n",
        "\n",
        "        # Validar si es un PDF\n",
        "        if is_pdf(destination_path):\n",
        "            valid_pdf_files.append(filename)\n",
        "        else:\n",
        "            print(f\"{filename} no es un archivo PDF válido y será ignorado.\")\n",
        "\n",
        "# Imprimir archivos válidos\n",
        "print(\"Archivos PDF válidos:\", valid_pdf_files)"
      ]
    },
    {
      "cell_type": "code",
      "execution_count": 15,
      "metadata": {
        "colab": {
          "base_uri": "https://localhost:8080/"
        },
        "id": "JCFNbo0AQis2",
        "outputId": "7b6d3ed4-4cd4-48c3-fc90-466c1e133e9c"
      },
      "outputs": [
        {
          "name": "stdout",
          "output_type": "stream",
          "text": [
            "Cargando archivo: ./doc\\preguntas.pdf\n",
            "Archivo preguntas.pdf cargado exitosamente.\n",
            "Cargando archivo: ./doc\\respuestas.pdf\n",
            "Archivo respuestas.pdf cargado exitosamente.\n",
            "Cargando archivo: ./doc\\teoria.pdf\n",
            "Archivo teoria.pdf cargado exitosamente.\n",
            "Cantidad total de partes del PDF: 53\n"
          ]
        }
      ],
      "source": [
        "# Directorio que contiene los archivos PDF\n",
        "pdf_directory = './doc'\n",
        "\n",
        "# Lista para almacenar todos los documentos\n",
        "all_docs = []\n",
        "\n",
        "# Iterar sobre todos los archivos en el directorio\n",
        "for filename in os.listdir(pdf_directory):\n",
        "    if filename.lower().endswith('.pdf'):\n",
        "        file_path = os.path.join(pdf_directory, filename)\n",
        "        print(f\"Cargando archivo: {file_path}\")\n",
        "\n",
        "        try:\n",
        "            # Cargar el PDF\n",
        "            loader = PyPDFLoader(file_path)\n",
        "            docs = loader.load()\n",
        "\n",
        "            # Agregar los documentos cargados a la lista\n",
        "            all_docs.extend(docs)\n",
        "            print(f\"Archivo {filename} cargado exitosamente.\")\n",
        "        except Exception as e:\n",
        "            print(f\"Error al cargar {filename}: {e}\")\n",
        "\n",
        "# Imprimir la cantidad total de partes del PDF\n",
        "print(f\"Cantidad total de partes del PDF: {len(all_docs)}\")"
      ]
    },
    {
      "cell_type": "code",
      "execution_count": 18,
      "metadata": {
        "id": "_AwhCqzJQNdj"
      },
      "outputs": [
        {
          "name": "stdout",
          "output_type": "stream",
          "text": [
            "Vector store y recuperador creados exitosamente.\n"
          ]
        }
      ],
      "source": [
        "# Crear el modelo de embeddings\n",
        "embeddings = HuggingFaceEmbeddings(model_name='sentence-transformers/all-MiniLM-L6-v2')\n",
        "\n",
        "# Crear el Semantic Chunker\n",
        "semantic_chunker = SemanticChunker(embeddings, breakpoint_threshold_type=\"percentile\")\n",
        "\n",
        "# Dividir los documentos en partes semánticas manejables\n",
        "splits = []\n",
        "for doc in all_docs:\n",
        "    chunks = semantic_chunker.split_text(doc.page_content)\n",
        "    for chunk in chunks:\n",
        "        # Crear un objeto Document para cada fragmento\n",
        "        splits.append(Document(page_content=chunk, metadata=doc.metadata))\n",
        "\n",
        "# Crear el vector store y almacenar los vectores\n",
        "vectorstore = Chroma.from_documents(documents=splits, embedding=embeddings, persist_directory='./vectordb')\n",
        "\n",
        "# Configurar el recuperador\n",
        "retriever = vectorstore.as_retriever()\n",
        "\n",
        "print(\"Vector store y recuperador creados exitosamente.\")"
      ]
    },
    {
      "cell_type": "code",
      "execution_count": null,
      "metadata": {
        "id": "FLSNa7X4QoSr"
      },
      "outputs": [],
      "source": [
        "# embeddings = HuggingFaceEmbeddings(model_name='all-MiniLM-L6-v2') #modelo de embeddings gratis\n",
        "\n",
        "# text_splitter = RecursiveCharacterTextSplitter(chunk_size=500, chunk_overlap=50) #usamos menos tokens que en el anterior debido a que este modelo es inferior\n",
        "# splits = text_splitter.split_documents(all_docs)\n",
        "# vectorstore = Chroma.from_documents(documents=splits, embedding=embeddings, persist_directory='./vectordb')\n",
        "\n",
        "# retriever = vectorstore.as_retriever()"
      ]
    },
    {
      "cell_type": "code",
      "execution_count": 19,
      "metadata": {
        "colab": {
          "base_uri": "https://localhost:8080/"
        },
        "id": "BbfO3jJTTYKy",
        "outputId": "44934ee2-8d99-4484-8dea-f6d6d3f6b386"
      },
      "outputs": [
        {
          "name": "stderr",
          "output_type": "stream",
          "text": [
            "c:\\Users\\Pablo\\Desktop\\RAG\\env\\Lib\\site-packages\\langchain_core\\_api\\deprecation.py:141: LangChainDeprecationWarning: The method `BaseRetriever.get_relevant_documents` was deprecated in langchain-core 0.1.46 and will be removed in 1.0. Use invoke instead.\n",
            "  warn_deprecated(\n"
          ]
        },
        {
          "data": {
            "text/plain": [
              "[Document(metadata={'page': 41, 'source': './doc\\\\teoria.pdf'}, page_content='¿Qué es?'),\n",
              " Document(metadata={'page': 0, 'source': './doc\\\\respuestas.pdf'}, page_content='1. Presentación\\ndel\\nProyecto\\n1.1. Descripción\\ndel\\nNegocio\\nAyuda\\npara\\nResponder:\\n●\\nIdea\\nBásica\\ndel\\nProyecto:\\no\\nPiensa\\nen\\nqué\\noportunidad\\nde\\nmercado\\nestás\\naprovechando\\ncon\\ntu\\nidea\\nde \\nnegocio. Según\\nel\\ndocumento,\\nla\\nidea\\ndebe\\ncubrir\\nuna\\ndemanda\\nno \\nsatisfecha\\no\\nmejorar\\nun\\nproducto/servicio\\nexistente. o\\nDescribe\\nel\\nproducto\\no\\nservicio\\ndestacando\\nsi\\nes\\nalgo\\nnuevo\\nen\\nel \\nmercado\\no\\nuna\\ninnovación\\nsobre\\nalgo\\nya\\nexistente. ●\\nProductos\\no\\nServicios:\\no\\nSi\\nes\\nun\\nproducto,\\ndescribe\\nsus\\ncaracterísticas,\\nutilidad\\ny\\nsi\\nes\\nalgo \\nnovedoso\\no\\nconocido. Explica\\ncómo\\nfuncionará\\ny\\ncuáles\\nson\\nsus\\nventajas \\ncompetitivas. o\\nSi\\nes\\nun\\nservicio,\\ndetalla\\nlo\\nque\\nse\\nva\\na\\nhacer ,\\ncómo\\nse\\nhará\\ny\\nqué \\nbeneficios\\naportará\\nal\\ncliente. ●\\nRazones\\npara\\nCrear\\nla\\nEmpr esa:\\no\\nSegún\\nel\\ndocumento,\\nidentifica\\nlas\\nnecesidades\\ndel\\nmercado\\nque\\nestás \\ncubriendo. También\\npuedes\\nseñalar\\nqué\\nte\\nmotiva\\na\\nemprender\\n(por \\nejemplo,\\nuna\\noportunidad\\nde\\nnegocio\\ndetectada,\\nun\\nnicho\\nde\\nmercado \\nmal\\natendido,\\netc.). ●\\nObjetivos\\na\\nMedio/Largo\\nPlazo:\\no\\nEstablece\\ntus\\nmetas\\npara\\nlos\\npróximos\\ntres\\naños\\nen\\ntérminos\\nde \\nposicionamiento\\nen\\nel\\nmercado,\\nventas,\\nempleo,\\ny\\nrentabilidad. Asegúrate\\nde\\nque\\nlos\\nobjetivos\\nsean\\nrealistas\\ny\\nbasados\\nen\\nlas\\nprevisiones \\nde\\ncrecimiento\\nde\\ntu\\nnegocio. 2. Descripción\\nde\\nla\\nActividad\\nde\\nla\\nEmpr esa\\n2.1. Descripción\\nde\\nla\\nActividad\\nAyuda\\npara\\nResponder:\\n●\\nActividad\\nPrincipal:\\no\\nDescribe\\nclaramente\\nen\\nqué\\nconsiste\\nla\\nactividad\\nde\\nla\\nempresa. Evita \\nlimitarte\\na\\nsu\\nnombre\\ntécnico\\no\\na\\nsu\\ncódigo\\nen\\nel\\nCNAE\\no\\nIAE. Detalla \\nlo\\nque\\nharás,\\npara\\nquién,\\ndónde\\ny\\ncómo. 2.2. Líneas\\nde\\nNegocio/Pr oductor/Servicios\\nAyuda\\npara\\nResponder:\\n●\\nLíneas\\nde\\nNegocio/Pr oductos/Servicios:\\no\\nDefine\\ncada\\nlínea\\nde\\nnegocio,\\nproducto\\no\\nservicio. Explica\\nsus \\nespecificaciones\\ntécnicas,\\nsu\\nutilidad,\\ny\\ncómo\\ncubrirán\\nlas\\nnecesidades \\ndel\\nmercado.'),\n",
              " Document(metadata={'page': 0, 'source': './doc\\\\preguntas.pdf'}, page_content='1. Presentación\\ndel\\nProyecto\\n1.1. Descripción\\ndel\\nNegocio\\n●\\n¿Cuál\\nes\\nla\\nidea\\nbásica\\ndel\\nproyecto? ●\\n¿Qué\\nproductos\\no\\nservicios\\nofrecerá\\nla\\nempr esa? o\\nSi\\nes\\nun\\nproducto:\\n¿Es\\nconocido\\no\\nnuevo? ¿Qué\\nposibilidades\\nofrece? o\\nSi\\nes\\nun\\nservicio:\\n¿Qué\\nse\\nva\\na\\nhacer\\ny\\ncómo\\nse\\nhará? ●\\n¿Por\\nqué\\ndecidiste\\ncrear\\nesta\\nempr esa? ●\\n¿Cuáles\\nson\\nlos\\nobjetivos\\nesperados\\na\\nmedio/largo\\nplazo? o\\n¿Cómo\\nves\\nel\\nposicionamiento\\nde\\nla\\nempresa\\nen\\ntres\\naños? o\\n¿Qué\\nobjetivos\\nesperas\\nalcanzar\\nen\\ntérminos\\nde\\nproducción,\\nventas, \\nempleo\\ny\\nrentabilidad? 2. Descripción\\nde\\nla\\nActividad\\nde\\nla\\nEmpr esa\\n2.1. Descripción\\nde\\nla\\nActividad\\n●\\n¿Cuál\\nes\\nla\\nactividad\\nprincipal\\nde\\nla\\nempr esa? o\\n¿En\\nqué\\nconsiste\\nesta\\nactividad\\nmás\\nallá\\nde\\nsu\\ndenominación?'),\n",
              " Document(metadata={'page': 24, 'source': './doc\\\\teoria.pdf'}, page_content='PRODUCCIÓN Y OPERACIONES\\n5.1. INTRODUCCIÓN\\nEl área de producción tiene un objeto claro: atender las necesidades \\nde la clientela de la forma más eficiente y menos costosa, dentro de \\nunos estándares de calidad. Para ello se deberá decidir el plan de \\nproducción en función de las previsiones de ventas. Esto supone \\nadecuar la capacidad de producción, limitada por los recursos \\ndisponibles, para abastecer correctamente al público objetivo. El Plan de Producción tiene como objetivo describir las operaciones \\nde la empresa, es decir, el proceso fabricación del pr oducto o de \\nprestación del servicio, así como los recursos humanos, materiales \\ny tecnológicos necesarios para el funcionamiento de dichas \\noperaciones. En este sentido, se analizarán las infraestructuras e instalaciones, el \\nequipamiento, los recursos tecnológicos, los requerimientos técnicos \\nde los productos y características de los servicios, el proceso \\nproductivo y de prestación del servicio, los costes, los planes y \\nprogramas de producción, así como las políticas de mantenimiento, \\ncalidad, protección de datos, y seguridad y prevención laboral. El objetivo del Plan de Producción es detallar cómo se van a fabricar \\nlos productos que se ha previsto vender. Se trata de conocer los \\nrecursos humanos y materiales que habrá que movilizar para llevar \\nadelante la nueva empresa.Este apartado tiene como objetivo resumir las necesidades de \\ninfraestructuras e instalaciones que precisa y con las que cuenta la \\nempresa, las necesidades de mantenimiento y de subcontratación. Se detallará los medios con los que se cuenta; locales y otras \\ninstalaciones, necesidades de maquinaria y personal, así como las \\nnecesidades de la formación. 5.2.1. Instalaciones Físicas (Ubicación, Tamaño, Distribución, \\nenta/Alquiler) \\nPara la elección de la localización física de la empresa debemos analizar \\nciertos factores tales como el precio de compra o de alquiler, las \\ninfraestructuras e instalaciones dae energía, agua y comunicaciones, \\nlas posibilidades de ampliación y de acondicionamiento, la proximidad \\no cercanía a los clientes y a los proveedores. 5.2.2. Ubicación\\nIncluso para negocios on-line, hay que decidir si existe una ubicación \\nfísica y dónde, o si se trata de un nómada digital pues quizá nada de \\nesto sea necesario. Para la ubicación concreta de las instalaciones \\nde producción en un municipio, barrio, polígono industrial, parque \\nempresarial, etc., debemos analizar si la clientela precisa visitarnos, \\nlos accesos, infraestructuras, parking, las instalaciones específicas, \\nzonas de carga y descarga, cercanía a puertos y aeropuertos, zonas \\nde almacenaje o de logística, entre otros. 5.2.3. Tamaño\\nEn este apartado es preciso determinar las dimensiones necesarias \\ndel local, taller, nave u oficina para realizar la actividad, así como las \\nposibilidades de ampliación futura. 5.2.4. Distribución\\nSe trata de realizar una distribución en planta que facilite la entrada o \\nrecepción a las instalaciones de materias primas y otros suministros, \\nla salida o entrega de productos terminados, el desarrollo del proceso \\nde fabricación o de prestación del servicio, así como otras actividades \\nde servicio técnico, laboratorios y control de calidad del producto.5.2. INFRAESTRUCTURAS E INSTALACIONES')]"
            ]
          },
          "execution_count": 19,
          "metadata": {},
          "output_type": "execute_result"
        }
      ],
      "source": [
        "retriever.get_relevant_documents('¿Cuál es la idea básica del proyecto?')"
      ]
    },
    {
      "cell_type": "code",
      "execution_count": null,
      "metadata": {
        "id": "COyAh3JOWtcP"
      },
      "outputs": [],
      "source": [
        "# import shutil\n",
        "\n",
        "# # Ruta de la carpeta que deseas comprimir\n",
        "# folder_path = '/content/vectordb'  # Cambia esto a la ruta de tu carpeta\n",
        "# zip_path = '/content/vectordb.zip'\n",
        "\n",
        "# # Comprimir la carpeta\n",
        "# shutil.make_archive('/content/vectordb', 'zip', folder_path)"
      ]
    }
  ],
  "metadata": {
    "accelerator": "GPU",
    "colab": {
      "gpuType": "T4",
      "provenance": []
    },
    "kernelspec": {
      "display_name": "Python 3",
      "name": "python3"
    },
    "language_info": {
      "codemirror_mode": {
        "name": "ipython",
        "version": 3
      },
      "file_extension": ".py",
      "mimetype": "text/x-python",
      "name": "python",
      "nbconvert_exporter": "python",
      "pygments_lexer": "ipython3",
      "version": "3.12.5"
    }
  },
  "nbformat": 4,
  "nbformat_minor": 0
}
