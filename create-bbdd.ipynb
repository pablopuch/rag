{
  "cells": [
    {
      "cell_type": "code",
      "execution_count": null,
      "metadata": {
        "id": "YnGH7dh7QAB0"
      },
      "outputs": [],
      "source": [
        "!pip install langchain-community Chroma Chromadb pymuPDF pyPDF2 sentence-transformers langchain pypdf streamlit"
      ]
    },
    {
      "cell_type": "code",
      "execution_count": 2,
      "metadata": {
        "id": "vewn5iDOQY69"
      },
      "outputs": [],
      "source": [
        "from langchain.vectorstores import Chroma\n",
        "from langchain_community.document_loaders import PyPDFLoader\n",
        "from PyPDF2 import PdfReader\n",
        "from langchain_community.embeddings import HuggingFaceEmbeddings\n",
        "from langchain_text_splitters import RecursiveCharacterTextSplitter\n",
        "import chromadb\n",
        "import os"
      ]
    },
    {
      "cell_type": "code",
      "execution_count": 6,
      "metadata": {
        "colab": {
          "base_uri": "https://localhost:8080/"
        },
        "id": "JCFNbo0AQis2",
        "outputId": "56913ccf-036e-4aac-f8d7-14ada5bf3777"
      },
      "outputs": [
        {
          "name": "stdout",
          "output_type": "stream",
          "text": [
            "Cargando archivo: doc\\preguntas.pdf\n",
            "Cargando archivo: doc\\respuestas.pdf\n",
            "Cargando archivo: doc\\teoria.pdf\n",
            "Cantidad total de partes del PDF: 53\n"
          ]
        }
      ],
      "source": [
        "# Directorio que contiene los archivos PDF\n",
        "pdf_directory = 'doc'\n",
        "\n",
        "# Lista para almacenar documentos\n",
        "all_docs = []\n",
        "\n",
        "# Iterar sobre todos los archivos en el directorio\n",
        "for filename in os.listdir(pdf_directory):\n",
        "    if filename.lower().endswith('.pdf'):\n",
        "        file_path = os.path.join(pdf_directory, filename)\n",
        "        print(f\"Cargando archivo: {file_path}\")\n",
        "\n",
        "        # Cargar el PDF\n",
        "        loader = PyPDFLoader(file_path)\n",
        "        docs = loader.load()\n",
        "\n",
        "        # Agregar los documentos cargados a la lista\n",
        "        all_docs.extend(docs)\n",
        "\n",
        "# Imprimir la cantidad total de partes del PDF\n",
        "print(f\"Cantidad total de partes del PDF: {len(all_docs)}\")"
      ]
    },
    {
      "cell_type": "code",
      "execution_count": 7,
      "metadata": {
        "id": "vO0CDZUYQfNX"
      },
      "outputs": [
        {
          "name": "stderr",
          "output_type": "stream",
          "text": [
            "c:\\Users\\Pablo\\Desktop\\RAG\\env\\Lib\\site-packages\\langchain_core\\_api\\deprecation.py:141: LangChainDeprecationWarning: The class `HuggingFaceEmbeddings` was deprecated in LangChain 0.2.2 and will be removed in 0.3.0. An updated version of the class exists in the langchain-huggingface package and should be used instead. To use it run `pip install -U langchain-huggingface` and import as `from langchain_huggingface import HuggingFaceEmbeddings`.\n",
            "  warn_deprecated(\n",
            "c:\\Users\\Pablo\\Desktop\\RAG\\env\\Lib\\site-packages\\sentence_transformers\\cross_encoder\\CrossEncoder.py:11: TqdmWarning: IProgress not found. Please update jupyter and ipywidgets. See https://ipywidgets.readthedocs.io/en/stable/user_install.html\n",
            "  from tqdm.autonotebook import tqdm, trange\n",
            "c:\\Users\\Pablo\\Desktop\\RAG\\env\\Lib\\site-packages\\transformers\\tokenization_utils_base.py:1601: FutureWarning: `clean_up_tokenization_spaces` was not set. It will be set to `True` by default. This behavior will be depracted in transformers v4.45, and will be then set to `False` by default. For more details check this issue: https://github.com/huggingface/transformers/issues/31884\n",
            "  warnings.warn(\n"
          ]
        }
      ],
      "source": [
        "embeddings = HuggingFaceEmbeddings(model_name='all-MiniLM-L6-v2') #modelo de embeddings gratis"
      ]
    },
    {
      "cell_type": "code",
      "execution_count": 8,
      "metadata": {
        "id": "FLSNa7X4QoSr"
      },
      "outputs": [],
      "source": [
        "text_splitter = RecursiveCharacterTextSplitter(chunk_size=500, chunk_overlap=50) #usamos menos tokens que en el anterior debido a que este modelo es inferior\n",
        "splits = text_splitter.split_documents(all_docs)\n",
        "vectorstore = Chroma.from_documents(documents=splits, embedding=embeddings, persist_directory='./vectordb')\n",
        "\n",
        "retriever = vectorstore.as_retriever()"
      ]
    },
    {
      "cell_type": "code",
      "execution_count": 9,
      "metadata": {
        "colab": {
          "base_uri": "https://localhost:8080/"
        },
        "id": "BbfO3jJTTYKy",
        "outputId": "97268216-7288-4e8f-b9b9-c34896b2a6f9"
      },
      "outputs": [
        {
          "name": "stderr",
          "output_type": "stream",
          "text": [
            "c:\\Users\\Pablo\\Desktop\\RAG\\env\\Lib\\site-packages\\langchain_core\\_api\\deprecation.py:141: LangChainDeprecationWarning: The method `BaseRetriever.get_relevant_documents` was deprecated in langchain-core 0.1.46 and will be removed in 1.0. Use invoke instead.\n",
            "  warn_deprecated(\n"
          ]
        },
        {
          "data": {
            "text/plain": [
              "[Document(metadata={'page': 0, 'source': '/content/pdf_files/respuestas.pdf'}, page_content='1.\\nPresentación\\ndel\\nProyecto\\n1.1.\\nDescripción\\ndel\\nNegocio\\nAyuda\\npara\\nResponder:\\n●\\nIdea\\nBásica\\ndel\\nProyecto:\\no\\nPiensa\\nen\\nqué\\noportunidad\\nde\\nmercado\\nestás\\naprovechando\\ncon\\ntu\\nidea\\nde \\nnegocio.\\nSegún\\nel\\ndocumento,\\nla\\nidea\\ndebe\\ncubrir\\nuna\\ndemanda\\nno \\nsatisfecha\\no\\nmejorar\\nun\\nproducto/servicio\\nexistente.\\no\\nDescribe\\nel\\nproducto\\no\\nservicio\\ndestacando\\nsi\\nes\\nalgo\\nnuevo\\nen\\nel \\nmercado\\no\\nuna\\ninnovación\\nsobre\\nalgo\\nya\\nexistente.\\n●\\nProductos\\no\\nServicios:\\no\\nSi\\nes\\nun\\nproducto,\\ndescribe\\nsus\\ncaracterísticas,'),\n",
              " Document(metadata={'page': 0, 'source': 'doc\\\\respuestas.pdf'}, page_content='1.\\nPresentación\\ndel\\nProyecto\\n1.1.\\nDescripción\\ndel\\nNegocio\\nAyuda\\npara\\nResponder:\\n●\\nIdea\\nBásica\\ndel\\nProyecto:\\no\\nPiensa\\nen\\nqué\\noportunidad\\nde\\nmercado\\nestás\\naprovechando\\ncon\\ntu\\nidea\\nde \\nnegocio.\\nSegún\\nel\\ndocumento,\\nla\\nidea\\ndebe\\ncubrir\\nuna\\ndemanda\\nno \\nsatisfecha\\no\\nmejorar\\nun\\nproducto/servicio\\nexistente.\\no\\nDescribe\\nel\\nproducto\\no\\nservicio\\ndestacando\\nsi\\nes\\nalgo\\nnuevo\\nen\\nel \\nmercado\\no\\nuna\\ninnovación\\nsobre\\nalgo\\nya\\nexistente.\\n●\\nProductos\\no\\nServicios:\\no\\nSi\\nes\\nun\\nproducto,\\ndescribe\\nsus\\ncaracterísticas,'),\n",
              " Document(metadata={'page': 5, 'source': '/content/pdf_files/teoria.pdf'}, page_content='para su puesta en marcha.\\nSe comparará la idea de negocio con otras existentes identificando \\nlas semejanzas y diferencias. Además, es conveniente analizar las \\ncausas que motivaron el fracaso de otras ideas parecidas. Por \\núltimo, es importante definir las novedades o ventajas competitivas \\nque  aportará nuestro producto o servicio al mercado frente a la \\ncompetencia. 2.1.1. Objetivo\\nEl objetivo fundamental de este apartado es concretar la actividad'),\n",
              " Document(metadata={'page': 5, 'source': 'doc\\\\teoria.pdf'}, page_content='para su puesta en marcha.\\nSe comparará la idea de negocio con otras existentes identificando \\nlas semejanzas y diferencias. Además, es conveniente analizar las \\ncausas que motivaron el fracaso de otras ideas parecidas. Por \\núltimo, es importante definir las novedades o ventajas competitivas \\nque  aportará nuestro producto o servicio al mercado frente a la \\ncompetencia. 2.1.1. Objetivo\\nEl objetivo fundamental de este apartado es concretar la actividad')]"
            ]
          },
          "execution_count": 9,
          "metadata": {},
          "output_type": "execute_result"
        }
      ],
      "source": [
        "retriever.get_relevant_documents('¿Cuál es la idea básica del proyecto?')"
      ]
    },
    {
      "cell_type": "code",
      "execution_count": 19,
      "metadata": {
        "colab": {
          "base_uri": "https://localhost:8080/",
          "height": 35
        },
        "id": "COyAh3JOWtcP",
        "outputId": "2ecea070-f023-49c5-90f2-ae6f5739de80"
      },
      "outputs": [
        {
          "data": {
            "application/vnd.google.colaboratory.intrinsic+json": {
              "type": "string"
            },
            "text/plain": [
              "'/content/vectordb.zip'"
            ]
          },
          "execution_count": 19,
          "metadata": {},
          "output_type": "execute_result"
        }
      ],
      "source": [
        "import shutil\n",
        "\n",
        "# Ruta de la carpeta que deseas comprimir\n",
        "folder_path = '/content/vectordb'  # Cambia esto a la ruta de tu carpeta\n",
        "zip_path = '/content/vectordb.zip'\n",
        "\n",
        "# Comprimir la carpeta\n",
        "shutil.make_archive('/content/vectordb', 'zip', folder_path)"
      ]
    }
  ],
  "metadata": {
    "colab": {
      "provenance": []
    },
    "kernelspec": {
      "display_name": "Python 3",
      "name": "python3"
    },
    "language_info": {
      "codemirror_mode": {
        "name": "ipython",
        "version": 3
      },
      "file_extension": ".py",
      "mimetype": "text/x-python",
      "name": "python",
      "nbconvert_exporter": "python",
      "pygments_lexer": "ipython3",
      "version": "3.12.5"
    }
  },
  "nbformat": 4,
  "nbformat_minor": 0
}
