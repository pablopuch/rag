{
  "nbformat": 4,
  "nbformat_minor": 0,
  "metadata": {
    "colab": {
      "provenance": []
    },
    "kernelspec": {
      "name": "python3",
      "display_name": "Python 3"
    },
    "language_info": {
      "name": "python"
    }
  },
  "cells": [
    {
      "cell_type": "code",
      "execution_count": null,
      "metadata": {
        "id": "YnGH7dh7QAB0"
      },
      "outputs": [],
      "source": [
        "!pip install langchain-community Chroma Chromadb pymuPDF pyPDF2 sentence-transformers langchain pypdf"
      ]
    },
    {
      "cell_type": "code",
      "source": [
        "from langchain.vectorstores import Chroma\n",
        "from langchain_community.document_loaders import PyPDFLoader\n",
        "from PyPDF2 import PdfReader\n",
        "from langchain_community.embeddings import HuggingFaceEmbeddings\n",
        "from langchain_text_splitters import RecursiveCharacterTextSplitter\n",
        "import chromadb\n",
        "import os\n",
        "import fitz\n",
        "import shutil\n",
        "import re\n",
        "from google.colab import files"
      ],
      "metadata": {
        "id": "vewn5iDOQY69"
      },
      "execution_count": 13,
      "outputs": []
    },
    {
      "cell_type": "code",
      "source": [
        "# Crear un directorio para cargar los archivos PDF\n",
        "pdf_directory = '/content/pdf_files'\n",
        "os.makedirs(pdf_directory, exist_ok=True)\n",
        "\n",
        "# Cargar archivos PDF\n",
        "uploaded = files.upload()\n",
        "\n",
        "# Mover los archivos cargados al directorio especificado\n",
        "for filename in uploaded.keys():\n",
        "    os.rename(filename, os.path.join(pdf_directory, filename))"
      ],
      "metadata": {
        "colab": {
          "base_uri": "https://localhost:8080/",
          "height": 142
        },
        "id": "dMi5_8MnQd6t",
        "outputId": "04ae8f85-abcb-4f8c-90e7-c295cc594aad"
      },
      "execution_count": 14,
      "outputs": [
        {
          "output_type": "display_data",
          "data": {
            "text/plain": [
              "<IPython.core.display.HTML object>"
            ],
            "text/html": [
              "\n",
              "     <input type=\"file\" id=\"files-925d7666-21e3-48c2-8d99-4eed3091b699\" name=\"files[]\" multiple disabled\n",
              "        style=\"border:none\" />\n",
              "     <output id=\"result-925d7666-21e3-48c2-8d99-4eed3091b699\">\n",
              "      Upload widget is only available when the cell has been executed in the\n",
              "      current browser session. Please rerun this cell to enable.\n",
              "      </output>\n",
              "      <script>// Copyright 2017 Google LLC\n",
              "//\n",
              "// Licensed under the Apache License, Version 2.0 (the \"License\");\n",
              "// you may not use this file except in compliance with the License.\n",
              "// You may obtain a copy of the License at\n",
              "//\n",
              "//      http://www.apache.org/licenses/LICENSE-2.0\n",
              "//\n",
              "// Unless required by applicable law or agreed to in writing, software\n",
              "// distributed under the License is distributed on an \"AS IS\" BASIS,\n",
              "// WITHOUT WARRANTIES OR CONDITIONS OF ANY KIND, either express or implied.\n",
              "// See the License for the specific language governing permissions and\n",
              "// limitations under the License.\n",
              "\n",
              "/**\n",
              " * @fileoverview Helpers for google.colab Python module.\n",
              " */\n",
              "(function(scope) {\n",
              "function span(text, styleAttributes = {}) {\n",
              "  const element = document.createElement('span');\n",
              "  element.textContent = text;\n",
              "  for (const key of Object.keys(styleAttributes)) {\n",
              "    element.style[key] = styleAttributes[key];\n",
              "  }\n",
              "  return element;\n",
              "}\n",
              "\n",
              "// Max number of bytes which will be uploaded at a time.\n",
              "const MAX_PAYLOAD_SIZE = 100 * 1024;\n",
              "\n",
              "function _uploadFiles(inputId, outputId) {\n",
              "  const steps = uploadFilesStep(inputId, outputId);\n",
              "  const outputElement = document.getElementById(outputId);\n",
              "  // Cache steps on the outputElement to make it available for the next call\n",
              "  // to uploadFilesContinue from Python.\n",
              "  outputElement.steps = steps;\n",
              "\n",
              "  return _uploadFilesContinue(outputId);\n",
              "}\n",
              "\n",
              "// This is roughly an async generator (not supported in the browser yet),\n",
              "// where there are multiple asynchronous steps and the Python side is going\n",
              "// to poll for completion of each step.\n",
              "// This uses a Promise to block the python side on completion of each step,\n",
              "// then passes the result of the previous step as the input to the next step.\n",
              "function _uploadFilesContinue(outputId) {\n",
              "  const outputElement = document.getElementById(outputId);\n",
              "  const steps = outputElement.steps;\n",
              "\n",
              "  const next = steps.next(outputElement.lastPromiseValue);\n",
              "  return Promise.resolve(next.value.promise).then((value) => {\n",
              "    // Cache the last promise value to make it available to the next\n",
              "    // step of the generator.\n",
              "    outputElement.lastPromiseValue = value;\n",
              "    return next.value.response;\n",
              "  });\n",
              "}\n",
              "\n",
              "/**\n",
              " * Generator function which is called between each async step of the upload\n",
              " * process.\n",
              " * @param {string} inputId Element ID of the input file picker element.\n",
              " * @param {string} outputId Element ID of the output display.\n",
              " * @return {!Iterable<!Object>} Iterable of next steps.\n",
              " */\n",
              "function* uploadFilesStep(inputId, outputId) {\n",
              "  const inputElement = document.getElementById(inputId);\n",
              "  inputElement.disabled = false;\n",
              "\n",
              "  const outputElement = document.getElementById(outputId);\n",
              "  outputElement.innerHTML = '';\n",
              "\n",
              "  const pickedPromise = new Promise((resolve) => {\n",
              "    inputElement.addEventListener('change', (e) => {\n",
              "      resolve(e.target.files);\n",
              "    });\n",
              "  });\n",
              "\n",
              "  const cancel = document.createElement('button');\n",
              "  inputElement.parentElement.appendChild(cancel);\n",
              "  cancel.textContent = 'Cancel upload';\n",
              "  const cancelPromise = new Promise((resolve) => {\n",
              "    cancel.onclick = () => {\n",
              "      resolve(null);\n",
              "    };\n",
              "  });\n",
              "\n",
              "  // Wait for the user to pick the files.\n",
              "  const files = yield {\n",
              "    promise: Promise.race([pickedPromise, cancelPromise]),\n",
              "    response: {\n",
              "      action: 'starting',\n",
              "    }\n",
              "  };\n",
              "\n",
              "  cancel.remove();\n",
              "\n",
              "  // Disable the input element since further picks are not allowed.\n",
              "  inputElement.disabled = true;\n",
              "\n",
              "  if (!files) {\n",
              "    return {\n",
              "      response: {\n",
              "        action: 'complete',\n",
              "      }\n",
              "    };\n",
              "  }\n",
              "\n",
              "  for (const file of files) {\n",
              "    const li = document.createElement('li');\n",
              "    li.append(span(file.name, {fontWeight: 'bold'}));\n",
              "    li.append(span(\n",
              "        `(${file.type || 'n/a'}) - ${file.size} bytes, ` +\n",
              "        `last modified: ${\n",
              "            file.lastModifiedDate ? file.lastModifiedDate.toLocaleDateString() :\n",
              "                                    'n/a'} - `));\n",
              "    const percent = span('0% done');\n",
              "    li.appendChild(percent);\n",
              "\n",
              "    outputElement.appendChild(li);\n",
              "\n",
              "    const fileDataPromise = new Promise((resolve) => {\n",
              "      const reader = new FileReader();\n",
              "      reader.onload = (e) => {\n",
              "        resolve(e.target.result);\n",
              "      };\n",
              "      reader.readAsArrayBuffer(file);\n",
              "    });\n",
              "    // Wait for the data to be ready.\n",
              "    let fileData = yield {\n",
              "      promise: fileDataPromise,\n",
              "      response: {\n",
              "        action: 'continue',\n",
              "      }\n",
              "    };\n",
              "\n",
              "    // Use a chunked sending to avoid message size limits. See b/62115660.\n",
              "    let position = 0;\n",
              "    do {\n",
              "      const length = Math.min(fileData.byteLength - position, MAX_PAYLOAD_SIZE);\n",
              "      const chunk = new Uint8Array(fileData, position, length);\n",
              "      position += length;\n",
              "\n",
              "      const base64 = btoa(String.fromCharCode.apply(null, chunk));\n",
              "      yield {\n",
              "        response: {\n",
              "          action: 'append',\n",
              "          file: file.name,\n",
              "          data: base64,\n",
              "        },\n",
              "      };\n",
              "\n",
              "      let percentDone = fileData.byteLength === 0 ?\n",
              "          100 :\n",
              "          Math.round((position / fileData.byteLength) * 100);\n",
              "      percent.textContent = `${percentDone}% done`;\n",
              "\n",
              "    } while (position < fileData.byteLength);\n",
              "  }\n",
              "\n",
              "  // All done.\n",
              "  yield {\n",
              "    response: {\n",
              "      action: 'complete',\n",
              "    }\n",
              "  };\n",
              "}\n",
              "\n",
              "scope.google = scope.google || {};\n",
              "scope.google.colab = scope.google.colab || {};\n",
              "scope.google.colab._files = {\n",
              "  _uploadFiles,\n",
              "  _uploadFilesContinue,\n",
              "};\n",
              "})(self);\n",
              "</script> "
            ]
          },
          "metadata": {}
        },
        {
          "output_type": "stream",
          "name": "stdout",
          "text": [
            "Saving preguntas.pdf to preguntas.pdf\n",
            "Saving respuestas.pdf to respuestas.pdf\n",
            "Saving teoria.pdf to teoria.pdf\n"
          ]
        }
      ]
    },
    {
      "cell_type": "code",
      "source": [
        "import os\n",
        "from langchain_community.document_loaders import PyPDFLoader\n",
        "\n",
        "# Directorio que contiene los archivos PDF\n",
        "pdf_directory = '/content/pdf_files'\n",
        "\n",
        "# Lista para almacenar documentos\n",
        "all_docs = []\n",
        "\n",
        "# Iterar sobre todos los archivos en el directorio\n",
        "for filename in os.listdir(pdf_directory):\n",
        "    if filename.lower().endswith('.pdf'):\n",
        "        file_path = os.path.join(pdf_directory, filename)\n",
        "        print(f\"Cargando archivo: {file_path}\")\n",
        "\n",
        "        # Cargar el PDF\n",
        "        loader = PyPDFLoader(file_path)\n",
        "        docs = loader.load()\n",
        "\n",
        "        # Agregar los documentos cargados a la lista\n",
        "        all_docs.extend(docs)\n",
        "\n",
        "# Imprimir la cantidad total de partes del PDF\n",
        "print(f\"Cantidad total de partes del PDF: {len(all_docs)}\")"
      ],
      "metadata": {
        "colab": {
          "base_uri": "https://localhost:8080/"
        },
        "id": "JCFNbo0AQis2",
        "outputId": "56913ccf-036e-4aac-f8d7-14ada5bf3777"
      },
      "execution_count": 15,
      "outputs": [
        {
          "output_type": "stream",
          "name": "stdout",
          "text": [
            "Cargando archivo: /content/pdf_files/respuestas.pdf\n",
            "Cargando archivo: /content/pdf_files/teoria.pdf\n",
            "Cargando archivo: /content/pdf_files/preguntas.pdf\n",
            "Cantidad total de partes del PDF: 53\n"
          ]
        }
      ]
    },
    {
      "cell_type": "code",
      "source": [
        "embeddings = HuggingFaceEmbeddings(model_name='all-MiniLM-L6-v2') #modelo de embeddings gratis"
      ],
      "metadata": {
        "id": "vO0CDZUYQfNX"
      },
      "execution_count": 16,
      "outputs": []
    },
    {
      "cell_type": "code",
      "source": [
        "text_splitter = RecursiveCharacterTextSplitter(chunk_size=500, chunk_overlap=50) #usamos menos tokens que en el anterior debido a que este modelo es inferior\n",
        "splits = text_splitter.split_documents(all_docs)\n",
        "vectorstore = Chroma.from_documents(documents=splits, embedding=embeddings, persist_directory='./vectordb')\n",
        "\n",
        "retriever = vectorstore.as_retriever()"
      ],
      "metadata": {
        "id": "FLSNa7X4QoSr"
      },
      "execution_count": 17,
      "outputs": []
    },
    {
      "cell_type": "code",
      "source": [
        "retriever.get_relevant_documents('¿Cuál es la idea básica del proyecto?')"
      ],
      "metadata": {
        "colab": {
          "base_uri": "https://localhost:8080/"
        },
        "id": "BbfO3jJTTYKy",
        "outputId": "97268216-7288-4e8f-b9b9-c34896b2a6f9"
      },
      "execution_count": 18,
      "outputs": [
        {
          "output_type": "execute_result",
          "data": {
            "text/plain": [
              "[Document(metadata={'page': 0, 'source': '/content/pdf_files/respuestas.pdf'}, page_content='1.\\nPresentación\\ndel\\nProyecto\\n1.1.\\nDescripción\\ndel\\nNegocio\\nAyuda\\npara\\nResponder:\\n●\\nIdea\\nBásica\\ndel\\nProyecto:\\no\\nPiensa\\nen\\nqué\\noportunidad\\nde\\nmercado\\nestás\\naprovechando\\ncon\\ntu\\nidea\\nde \\nnegocio.\\nSegún\\nel\\ndocumento,\\nla\\nidea\\ndebe\\ncubrir\\nuna\\ndemanda\\nno \\nsatisfecha\\no\\nmejorar\\nun\\nproducto/servicio\\nexistente.\\no\\nDescribe\\nel\\nproducto\\no\\nservicio\\ndestacando\\nsi\\nes\\nalgo\\nnuevo\\nen\\nel \\nmercado\\no\\nuna\\ninnovación\\nsobre\\nalgo\\nya\\nexistente.\\n●\\nProductos\\no\\nServicios:\\no\\nSi\\nes\\nun\\nproducto,\\ndescribe\\nsus\\ncaracterísticas,'),\n",
              " Document(metadata={'page': 0, 'source': '/content/pdf_files/respuestas.pdf'}, page_content='1.\\nPresentación\\ndel\\nProyecto\\n1.1.\\nDescripción\\ndel\\nNegocio\\nAyuda\\npara\\nResponder:\\n●\\nIdea\\nBásica\\ndel\\nProyecto:\\no\\nPiensa\\nen\\nqué\\noportunidad\\nde\\nmercado\\nestás\\naprovechando\\ncon\\ntu\\nidea\\nde \\nnegocio.\\nSegún\\nel\\ndocumento,\\nla\\nidea\\ndebe\\ncubrir\\nuna\\ndemanda\\nno \\nsatisfecha\\no\\nmejorar\\nun\\nproducto/servicio\\nexistente.\\no\\nDescribe\\nel\\nproducto\\no\\nservicio\\ndestacando\\nsi\\nes\\nalgo\\nnuevo\\nen\\nel \\nmercado\\no\\nuna\\ninnovación\\nsobre\\nalgo\\nya\\nexistente.\\n●\\nProductos\\no\\nServicios:\\no\\nSi\\nes\\nun\\nproducto,\\ndescribe\\nsus\\ncaracterísticas,'),\n",
              " Document(metadata={'page': 5, 'source': '/content/pdf_files/teoria.pdf'}, page_content='para su puesta en marcha.\\nSe comparará la idea de negocio con otras existentes identificando \\nlas semejanzas y diferencias. Además, es conveniente analizar las \\ncausas que motivaron el fracaso de otras ideas parecidas. Por \\núltimo, es importante definir las novedades o ventajas competitivas \\nque  aportará nuestro producto o servicio al mercado frente a la \\ncompetencia. 2.1.1. Objetivo\\nEl objetivo fundamental de este apartado es concretar la actividad'),\n",
              " Document(metadata={'page': 5, 'source': '/content/pdf_files/teoria.pdf'}, page_content='para su puesta en marcha.\\nSe comparará la idea de negocio con otras existentes identificando \\nlas semejanzas y diferencias. Además, es conveniente analizar las \\ncausas que motivaron el fracaso de otras ideas parecidas. Por \\núltimo, es importante definir las novedades o ventajas competitivas \\nque  aportará nuestro producto o servicio al mercado frente a la \\ncompetencia. 2.1.1. Objetivo\\nEl objetivo fundamental de este apartado es concretar la actividad')]"
            ]
          },
          "metadata": {},
          "execution_count": 18
        }
      ]
    },
    {
      "cell_type": "code",
      "source": [
        "import shutil\n",
        "\n",
        "# Ruta de la carpeta que deseas comprimir\n",
        "folder_path = '/content/vectordb'  # Cambia esto a la ruta de tu carpeta\n",
        "zip_path = '/content/vectordb.zip'\n",
        "\n",
        "# Comprimir la carpeta\n",
        "shutil.make_archive('/content/vectordb', 'zip', folder_path)"
      ],
      "metadata": {
        "colab": {
          "base_uri": "https://localhost:8080/",
          "height": 35
        },
        "id": "COyAh3JOWtcP",
        "outputId": "2ecea070-f023-49c5-90f2-ae6f5739de80"
      },
      "execution_count": 19,
      "outputs": [
        {
          "output_type": "execute_result",
          "data": {
            "text/plain": [
              "'/content/vectordb.zip'"
            ],
            "application/vnd.google.colaboratory.intrinsic+json": {
              "type": "string"
            }
          },
          "metadata": {},
          "execution_count": 19
        }
      ]
    }
  ]
}