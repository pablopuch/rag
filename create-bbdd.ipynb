{
  "cells": [
    {
      "cell_type": "code",
      "execution_count": null,
      "metadata": {
        "id": "YnGH7dh7QAB0"
      },
      "outputs": [],
      "source": [
        "!pip install langchain-community Chroma Chromadb pymuPDF pyPDF2 sentence-transformers langchain pypdf streamlit"
      ]
    },
    {
      "cell_type": "code",
      "execution_count": null,
      "metadata": {
        "id": "vewn5iDOQY69"
      },
      "outputs": [],
      "source": [
        "from langchain.vectorstores import Chroma\n",
        "from langchain_community.document_loaders import PyPDFLoader\n",
        "from langchain_community.embeddings import HuggingFaceEmbeddings\n",
        "from langchain_text_splitters import RecursiveCharacterTextSplitter\n",
        "import os"
      ]
    },
    {
      "cell_type": "code",
      "execution_count": null,
      "metadata": {
        "colab": {
          "base_uri": "https://localhost:8080/"
        },
        "id": "JCFNbo0AQis2",
        "outputId": "56913ccf-036e-4aac-f8d7-14ada5bf3777"
      },
      "outputs": [],
      "source": [
        "# Directorio que contiene los archivos PDF\n",
        "pdf_directory = 'doc'\n",
        "\n",
        "# Lista para almacenar documentos\n",
        "all_docs = []\n",
        "\n",
        "# Iterar sobre todos los archivos en el directorio\n",
        "for filename in os.listdir(pdf_directory):\n",
        "    if filename.lower().endswith('.pdf'):\n",
        "        file_path = os.path.join(pdf_directory, filename)\n",
        "        print(f\"Cargando archivo: {file_path}\")\n",
        "\n",
        "        # Cargar el PDF\n",
        "        loader = PyPDFLoader(file_path)\n",
        "        docs = loader.load()\n",
        "\n",
        "        # Agregar los documentos cargados a la lista\n",
        "        all_docs.extend(docs)\n",
        "\n",
        "# Imprimir la cantidad total de partes del PDF\n",
        "print(f\"Cantidad total de partes del PDF: {len(all_docs)}\")"
      ]
    },
    {
      "cell_type": "code",
      "execution_count": null,
      "metadata": {
        "id": "vO0CDZUYQfNX"
      },
      "outputs": [],
      "source": [
        "embeddings = HuggingFaceEmbeddings(model_name='all-MiniLM-L6-v2') #modelo de embeddings gratis"
      ]
    },
    {
      "cell_type": "code",
      "execution_count": null,
      "metadata": {
        "id": "FLSNa7X4QoSr"
      },
      "outputs": [],
      "source": [
        "text_splitter = RecursiveCharacterTextSplitter(chunk_size=500, chunk_overlap=50) #usamos menos tokens que en el anterior debido a que este modelo es inferior\n",
        "splits = text_splitter.split_documents(all_docs)\n",
        "vectorstore = Chroma.from_documents(documents=splits, embedding=embeddings, persist_directory='./vectordb')\n",
        "\n",
        "retriever = vectorstore.as_retriever()"
      ]
    },
    {
      "cell_type": "code",
      "execution_count": null,
      "metadata": {
        "colab": {
          "base_uri": "https://localhost:8080/"
        },
        "id": "BbfO3jJTTYKy",
        "outputId": "97268216-7288-4e8f-b9b9-c34896b2a6f9"
      },
      "outputs": [],
      "source": [
        "retriever.get_relevant_documents('¿Cuál es la idea básica del proyecto?')"
      ]
    }
  ],
  "metadata": {
    "colab": {
      "provenance": []
    },
    "kernelspec": {
      "display_name": "Python 3",
      "name": "python3"
    },
    "language_info": {
      "codemirror_mode": {
        "name": "ipython",
        "version": 3
      },
      "file_extension": ".py",
      "mimetype": "text/x-python",
      "name": "python",
      "nbconvert_exporter": "python",
      "pygments_lexer": "ipython3",
      "version": "3.12.5"
    }
  },
  "nbformat": 4,
  "nbformat_minor": 0
}
